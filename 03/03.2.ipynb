{
 "cells": [
  {
   "cell_type": "code",
   "execution_count": 1,
   "id": "3ac94534-4296-4baa-aa91-158b7f002147",
   "metadata": {},
   "outputs": [],
   "source": [
    "import numpy as np\n",
    "import torch\n",
    "import torch.nn.functional as F\n",
    "import matplotlib.pyplot as plt\n",
    "%matplotlib inline"
   ]
  },
  {
   "cell_type": "code",
   "execution_count": 6,
   "id": "45d80ffb-3666-4de7-b800-9bada8758d8a",
   "metadata": {},
   "outputs": [
    {
     "data": {
      "text/plain": [
       "['google.com',\n",
       " 'a-msedge.net',\n",
       " 'microsoft.com',\n",
       " 'facebook.com',\n",
       " 'amazonaws.com',\n",
       " 'googleapis.com',\n",
       " 'apple.com',\n",
       " 'youtube.com']"
      ]
     },
     "execution_count": 6,
     "metadata": {},
     "output_type": "execute_result"
    }
   ],
   "source": [
    "#Abrimos el archivo con los nombres\n",
    "dataset = open('../data/domain_names_full.txt', 'r').read().splitlines()[:10000] # Usamos solo el primer millon de dominios\n",
    "dataset[:8]"
   ]
  },
  {
   "cell_type": "code",
   "execution_count": 7,
   "id": "cb4e768c-30f0-4fed-93dc-f480d72dbb20",
   "metadata": {},
   "outputs": [
    {
     "name": "stdout",
     "output_type": "stream",
     "text": [
      "{'*': 0, '-': 1, '.': 2, '0': 3, '1': 4, '2': 5, '3': 6, '4': 7, '5': 8, '6': 9, '7': 10, '8': 11, '9': 12, 'a': 13, 'b': 14, 'c': 15, 'd': 16, 'e': 17, 'f': 18, 'g': 19, 'h': 20, 'i': 21, 'j': 22, 'k': 23, 'l': 24, 'm': 25, 'n': 26, 'o': 27, 'p': 28, 'q': 29, 'r': 30, 's': 31, 't': 32, 'u': 33, 'v': 34, 'w': 35, 'x': 36, 'y': 37, 'z': 38}\n"
     ]
    }
   ],
   "source": [
    "charset = ['*'] + sorted(list(set([y for x in dataset for y in x])))\n",
    "ctoi = {c:i for i, c in enumerate(charset)}\n",
    "itoc = {i:c for i, c in enumerate(charset)}\n",
    "charset_len = len(charset)\n",
    "print(ctoi)"
   ]
  },
  {
   "cell_type": "code",
   "execution_count": 8,
   "id": "15170998-ece1-4646-9ed4-2dd9cde3f938",
   "metadata": {},
   "outputs": [],
   "source": [
    "def build_dataset(dataset: list):\n",
    "    X, Y  = [], []\n",
    "    for d in dataset:\n",
    "        example = list(d) + ['*']\n",
    "        context = [0] * context_size\n",
    "        for c in example:\n",
    "            X.append(context)\n",
    "            Y.append(ctoi[c])\n",
    "            context = context[1:] + [ctoi[c]] \n",
    "    X = torch.tensor(X)\n",
    "    Y = torch.tensor(Y)\n",
    "    return X, Y"
   ]
  },
  {
   "cell_type": "code",
   "execution_count": 9,
   "id": "bc506c70-4cf0-485b-a9e6-4da95539efff",
   "metadata": {},
   "outputs": [],
   "source": [
    "# build the dataset\n",
    "context_size = 3\n",
    "np.random.seed(42)\n",
    "np.random.shuffle(dataset)\n",
    "n1 = int(.8 * len(dataset))  # límite para el 80% del dataset\n",
    "n2 = int(.9 * len(dataset))  # límite para el 90% del dataset\n",
    "Xtr, Ytr = build_dataset(dataset[:n1])    # 80%\n",
    "Xva, Yva = build_dataset(dataset[n1:n2])  # 10%\n",
    "Xte, Yte = build_dataset(dataset[:n2])    # 10%"
   ]
  },
  {
   "cell_type": "code",
   "execution_count": 10,
   "id": "d830677c-f778-4642-bafb-f07df2be4865",
   "metadata": {},
   "outputs": [
    {
     "data": {
      "text/plain": [
       "9389"
      ]
     },
     "execution_count": 10,
     "metadata": {},
     "output_type": "execute_result"
    }
   ],
   "source": [
    "# MLP de nuevo...\n",
    "g = torch.Generator(device='cpu').manual_seed(42)\n",
    "emb_d = 10  # El número de dimensiones del Enbedding\n",
    "input_size = context_size * emb_d  # el tamaño del input, desapilado\n",
    "n_hidden = 128  # El número de neuronas en al capa hiddend que queremos\n",
    "\n",
    "# Definición del modelo\n",
    "C = torch.randn((charset_len, emb_d),             generator=g)\n",
    "W1 = torch.randn((emb_d * context_size, n_hidden),generator=g)\n",
    "b1 = torch.randn(n_hidden,                        generator=g)\n",
    "W2 = torch.randn((n_hidden, charset_len),         generator=g)\n",
    "b2 = torch.randn(charset_len,                     generator=g)\n",
    "parameters = [C, W1, b1, W2, b2]\n",
    "for p in parameters:\n",
    "    p.requires_grad = True\n",
    "sum(p.nelement() for p in parameters)"
   ]
  },
  {
   "cell_type": "code",
   "execution_count": 11,
   "id": "572df746-bda0-4894-9fcf-519541f68bde",
   "metadata": {},
   "outputs": [
    {
     "name": "stdout",
     "output_type": "stream",
     "text": [
      "Step:       0/ 200000 -- loss: 24.725157\n",
      "Step:   10000/ 200000 -- loss: 2.415475\n",
      "Step:   20000/ 200000 -- loss: 2.278769\n",
      "Step:   30000/ 200000 -- loss: 2.101118\n",
      "Step:   40000/ 200000 -- loss: 2.237613\n",
      "Step:   50000/ 200000 -- loss: 2.195079\n",
      "Step:   60000/ 200000 -- loss: 2.197256\n",
      "Step:   70000/ 200000 -- loss: 1.955673\n",
      "Step:   80000/ 200000 -- loss: 2.185173\n",
      "Step:   90000/ 200000 -- loss: 2.451754\n",
      "Step:  100000/ 200000 -- loss: 1.980574\n",
      "Step:  110000/ 200000 -- loss: 1.968518\n",
      "Step:  120000/ 200000 -- loss: 2.035515\n",
      "Step:  130000/ 200000 -- loss: 1.960029\n",
      "Step:  140000/ 200000 -- loss: 2.086640\n",
      "Step:  150000/ 200000 -- loss: 1.693685\n",
      "Step:  160000/ 200000 -- loss: 1.533603\n",
      "Step:  170000/ 200000 -- loss: 1.948895\n",
      "Step:  180000/ 200000 -- loss: 1.863111\n",
      "Step:  190000/ 200000 -- loss: 2.005175\n",
      "2.1732850074768066\n"
     ]
    }
   ],
   "source": [
    "train_iterations = 200000\n",
    "minibatch_size = 64\n",
    "loss_log = []\n",
    "\n",
    "for i in range(train_iterations):\n",
    "    # training loop en mini batches\n",
    "    ix = torch.randint(0, len(Xtr), (minibatch_size,), generator=g)\n",
    "    Xb, Yb = Xtr[ix], Ytr[ix]\n",
    "    # forward pass usando F.cross_entropy\n",
    "    emb = C[Xb]  # embedding de los caracteres\n",
    "    embcat = emb.view(-1, input_size)  # embedding como una vector de input_size\n",
    "    hpreact = embcat @ W1 + b1  # pre activación de la capa oculta (h)\n",
    "    h = torch.tanh(hpreact)  # activación de la capa oculta (h)\n",
    "    logits = h @ W2 + b2  # output layer\n",
    "    loss = F.cross_entropy(logits, Yb)\n",
    "    # backward pass\n",
    "    for p in parameters:\n",
    "        p.grad = None\n",
    "    loss.backward()\n",
    "    # update\n",
    "    lr = .1 if i < 100000 else .01\n",
    "    for p in parameters:\n",
    "        p.data += -lr * p.grad\n",
    "    if i % 10000 == 0:\n",
    "        print(f'Step: {i:7d}/{train_iterations:7d} -- loss: {loss.item():.6f}')\n",
    "    loss_log.append(loss.log10().item())\n",
    "print(loss.item())"
   ]
  },
  {
   "cell_type": "code",
   "execution_count": 12,
   "id": "6a78cca2-6d8a-4d84-80d3-760e11e80803",
   "metadata": {},
   "outputs": [
    {
     "data": {
      "text/plain": [
       "[<matplotlib.lines.Line2D at 0x79c4235a62f0>]"
      ]
     },
     "execution_count": 12,
     "metadata": {},
     "output_type": "execute_result"
    },
    {
     "data": {
      "image/png": "[encoded data removed]",
      "text/plain": [
       "<Figure size 640x480 with 1 Axes>"
      ]
     },
     "metadata": {},
     "output_type": "display_data"
    }
   ],
   "source": [
    "plt.plot(loss_log)"
   ]
  },
  {
   "cell_type": "code",
   "execution_count": 13,
   "id": "04b46b78-2804-4ae7-b6c5-014a9e6782bc",
   "metadata": {},
   "outputs": [
    {
     "data": {
      "text/plain": [
       "(array([1866.,  388.,  261.,  163.,  178.,  134.,  140.,   92.,   89.,\n",
       "          86.,   76.,   84.,   55.,   59.,   55.,   62.,   60.,   53.,\n",
       "          48.,   48.,   49.,   38.,   71.,   46.,   46.,   57.,   58.,\n",
       "          56.,   48.,   47.,   63.,   46.,   55.,   62.,   43.,   71.,\n",
       "          75.,   70.,   64.,   69.,   87.,   76.,   88.,   88.,  130.,\n",
       "         132.,  185.,  240.,  359., 1676.]),\n",
       " array([-1.  , -0.96, -0.92, -0.88, -0.84, -0.8 , -0.76, -0.72, -0.68,\n",
       "        -0.64, -0.6 , -0.56, -0.52, -0.48, -0.44, -0.4 , -0.36, -0.32,\n",
       "        -0.28, -0.24, -0.2 , -0.16, -0.12, -0.08, -0.04,  0.  ,  0.04,\n",
       "         0.08,  0.12,  0.16,  0.2 ,  0.24,  0.28,  0.32,  0.36,  0.4 ,\n",
       "         0.44,  0.48,  0.52,  0.56,  0.6 ,  0.64,  0.68,  0.72,  0.76,\n",
       "         0.8 ,  0.84,  0.88,  0.92,  0.96,  1.  ]),\n",
       " <BarContainer object of 50 artists>)"
      ]
     },
     "execution_count": 13,
     "metadata": {},
     "output_type": "execute_result"
    },
    {
     "data": {
      "image/png": "[encoded data removed]",
      "text/plain": [
       "<Figure size 640x480 with 1 Axes>"
      ]
     },
     "metadata": {},
     "output_type": "display_data"
    }
   ],
   "source": [
    "plt.hist(h.view(-1).tolist(),bins=50)"
   ]
  },
  {
   "cell_type": "code",
   "execution_count": 14,
   "id": "18d88451-c031-495c-984f-f598ee076b29",
   "metadata": {},
   "outputs": [
    {
     "data": {
      "text/plain": [
       "<matplotlib.image.AxesImage at 0x79c4886f23b0>"
      ]
     },
     "execution_count": 14,
     "metadata": {},
     "output_type": "execute_result"
    },
    {
     "data": {
      "image/png": "[encoded data removed]",
      "text/plain": [
       "<Figure size 640x480 with 1 Axes>"
      ]
     },
     "metadata": {},
     "output_type": "display_data"
    }
   ],
   "source": [
    "plt.imshow(h.abs() > 0.99, cmap='gray')"
   ]
  },
  {
   "cell_type": "code",
   "execution_count": 15,
   "id": "f6b5f56d-ddb9-44ee-87e6-c59e5920b58d",
   "metadata": {},
   "outputs": [],
   "source": [
    "class Embedding():\n",
    "    def __init__(self, n_embeddings, embedding_dimension):\n",
    "        self.weight = torch.randn((n_embeddings, embedding_dimension))\n",
    "    \n",
    "    def __call__(self, x):\n",
    "        self.out = self.weight[x]\n",
    "        self.out = self.out.view(self.out.shape[0], -1)\n",
    "        return self.out\n",
    "\n",
    "    def parameters(self):\n",
    "        return [self.weight]\n",
    "\n",
    "\n",
    "class Linear():\n",
    "    def __init__(self, fan_in, fan_out, bias=True):\n",
    "        self.weight = torch.randn((fan_in, fan_out))\n",
    "        self.bias = torch.zeros(fan_out) if bias else None\n",
    "    \n",
    "    def __call__(self, x):\n",
    "        self.out = x @ self.weight\n",
    "        if self.bias is not None:\n",
    "            self.out += self.bias\n",
    "        return self.out\n",
    "    \n",
    "    def parameters(self):\n",
    "        return [self.weight] + ([] if self.bias is None else [self.bias])\n",
    "\n",
    "\n",
    "class Tanh():\n",
    "    def __call__(self, x):\n",
    "        self.out = torch.tanh(x)\n",
    "        return self.out\n",
    "    \n",
    "    def parameters(self):\n",
    "        return []"
   ]
  },
  {
   "cell_type": "code",
   "execution_count": 16,
   "id": "5fb8385c-81c4-4b5a-a0f2-a8263b181212",
   "metadata": {},
   "outputs": [
    {
     "name": "stdout",
     "output_type": "stream",
     "text": [
      "Number of parameters: 9389\n"
     ]
    }
   ],
   "source": [
    "context_size = 3\n",
    "emb_d = 10\n",
    "n_hidden = 128\n",
    "\n",
    "model = [\n",
    "    Embedding(charset_len, emb_d),\n",
    "    Linear(emb_d*context_size, n_hidden), Tanh(),\n",
    "    Linear(n_hidden, charset_len)\n",
    "]\n",
    "\n",
    "parameters = [p for layer in model for p in layer.parameters()]\n",
    "for p in parameters:\n",
    "    p.requires_grad = True\n",
    "print(f'Number of parameters: {sum((p.nelement() for p in parameters))}')"
   ]
  },
  {
   "cell_type": "code",
   "execution_count": 17,
   "id": "2dfee399-f95d-418b-bf5e-c669057a1d2e",
   "metadata": {},
   "outputs": [
    {
     "name": "stdout",
     "output_type": "stream",
     "text": [
      "Step:       0/1000000 -- loss: 23.854155\n",
      "Step:   10000/1000000 -- loss: 3.663562\n",
      "Step:   20000/1000000 -- loss: 3.663562\n",
      "Step:   30000/1000000 -- loss: 3.663562\n",
      "Step:   40000/1000000 -- loss: 3.663562\n",
      "Step:   50000/1000000 -- loss: 3.663562\n",
      "Step:   60000/1000000 -- loss: 3.663562\n",
      "Step:   70000/1000000 -- loss: 3.663562\n",
      "Step:   80000/1000000 -- loss: 3.663562\n",
      "Step:   90000/1000000 -- loss: 3.663562\n",
      "Step:  100000/1000000 -- loss: 3.663562\n",
      "Step:  110000/1000000 -- loss: 3.663562\n",
      "Step:  120000/1000000 -- loss: 3.663562\n",
      "Step:  130000/1000000 -- loss: 3.663562\n",
      "Step:  140000/1000000 -- loss: 3.663562\n",
      "Step:  150000/1000000 -- loss: 3.663562\n",
      "Step:  160000/1000000 -- loss: 3.663562\n",
      "Step:  170000/1000000 -- loss: 3.663562\n",
      "Step:  180000/1000000 -- loss: 3.663562\n",
      "Step:  190000/1000000 -- loss: 3.663562\n",
      "Step:  200000/1000000 -- loss: 3.663562\n",
      "Step:  210000/1000000 -- loss: 3.663562\n",
      "Step:  220000/1000000 -- loss: 3.663562\n",
      "Step:  230000/1000000 -- loss: 3.663562\n",
      "Step:  240000/1000000 -- loss: 3.663562\n",
      "Step:  250000/1000000 -- loss: 3.663562\n",
      "Step:  260000/1000000 -- loss: 3.663562\n",
      "Step:  270000/1000000 -- loss: 3.663562\n",
      "Step:  280000/1000000 -- loss: 3.663562\n",
      "Step:  290000/1000000 -- loss: 3.663562\n",
      "Step:  300000/1000000 -- loss: 3.663562\n",
      "Step:  310000/1000000 -- loss: 3.663562\n",
      "Step:  320000/1000000 -- loss: 3.663562\n",
      "Step:  330000/1000000 -- loss: 3.663562\n",
      "Step:  340000/1000000 -- loss: 3.663562\n",
      "Step:  350000/1000000 -- loss: 3.663562\n",
      "Step:  360000/1000000 -- loss: 3.663562\n",
      "Step:  370000/1000000 -- loss: 3.663562\n",
      "Step:  380000/1000000 -- loss: 3.663562\n",
      "Step:  390000/1000000 -- loss: 3.663562\n",
      "Step:  400000/1000000 -- loss: 3.663562\n",
      "Step:  410000/1000000 -- loss: 3.663562\n",
      "Step:  420000/1000000 -- loss: 3.663562\n",
      "Step:  430000/1000000 -- loss: 3.663562\n",
      "Step:  440000/1000000 -- loss: 3.663562\n",
      "Step:  450000/1000000 -- loss: 3.663562\n",
      "Step:  460000/1000000 -- loss: 3.663562\n",
      "Step:  470000/1000000 -- loss: 3.663562\n",
      "Step:  480000/1000000 -- loss: 3.663562\n",
      "Step:  490000/1000000 -- loss: 3.663562\n",
      "Step:  500000/1000000 -- loss: 3.663562\n",
      "Step:  510000/1000000 -- loss: 3.663562\n",
      "Step:  520000/1000000 -- loss: 3.663562\n",
      "Step:  530000/1000000 -- loss: 3.663562\n",
      "Step:  540000/1000000 -- loss: 3.663562\n",
      "Step:  550000/1000000 -- loss: 3.663562\n",
      "Step:  560000/1000000 -- loss: 3.663562\n",
      "Step:  570000/1000000 -- loss: 3.663562\n",
      "Step:  580000/1000000 -- loss: 3.663562\n",
      "Step:  590000/1000000 -- loss: 3.663562\n",
      "Step:  600000/1000000 -- loss: 3.663562\n",
      "Step:  610000/1000000 -- loss: 3.663562\n",
      "Step:  620000/1000000 -- loss: 3.663562\n",
      "Step:  630000/1000000 -- loss: 3.663562\n",
      "Step:  640000/1000000 -- loss: 3.663562\n",
      "Step:  650000/1000000 -- loss: 3.663562\n",
      "Step:  660000/1000000 -- loss: 3.663562\n",
      "Step:  670000/1000000 -- loss: 3.663562\n",
      "Step:  680000/1000000 -- loss: 3.663562\n",
      "Step:  690000/1000000 -- loss: 3.663562\n",
      "Step:  700000/1000000 -- loss: 3.663562\n",
      "Step:  710000/1000000 -- loss: 3.663562\n",
      "Step:  720000/1000000 -- loss: 3.663562\n",
      "Step:  730000/1000000 -- loss: 3.663562\n",
      "Step:  740000/1000000 -- loss: 3.663562\n",
      "Step:  750000/1000000 -- loss: 3.663562\n",
      "Step:  760000/1000000 -- loss: 3.663562\n",
      "Step:  770000/1000000 -- loss: 3.663562\n",
      "Step:  780000/1000000 -- loss: 3.663562\n",
      "Step:  790000/1000000 -- loss: 3.663562\n",
      "Step:  800000/1000000 -- loss: 3.663562\n",
      "Step:  810000/1000000 -- loss: 3.663562\n",
      "Step:  820000/1000000 -- loss: 3.663562\n",
      "Step:  830000/1000000 -- loss: 3.663562\n",
      "Step:  840000/1000000 -- loss: 3.663562\n",
      "Step:  850000/1000000 -- loss: 3.663562\n",
      "Step:  860000/1000000 -- loss: 3.663562\n",
      "Step:  870000/1000000 -- loss: 3.663562\n",
      "Step:  880000/1000000 -- loss: 3.663562\n",
      "Step:  890000/1000000 -- loss: 3.663562\n",
      "Step:  900000/1000000 -- loss: 3.663562\n",
      "Step:  910000/1000000 -- loss: 3.663562\n",
      "Step:  920000/1000000 -- loss: 3.663562\n",
      "Step:  930000/1000000 -- loss: 3.663562\n",
      "Step:  940000/1000000 -- loss: 3.663562\n",
      "Step:  950000/1000000 -- loss: 3.663562\n",
      "Step:  960000/1000000 -- loss: 3.663562\n",
      "Step:  970000/1000000 -- loss: 3.663562\n",
      "Step:  980000/1000000 -- loss: 3.663562\n",
      "Step:  990000/1000000 -- loss: 3.663562\n",
      "3.663562059402466\n"
     ]
    }
   ],
   "source": [
    "train_iterations = 1000000\n",
    "minibatch_size = 64\n",
    "loss_log = []\n",
    "\n",
    "for i in range(train_iterations):\n",
    "    # training loop en mini batches\n",
    "    ix = torch.randint(0, len(Xtr), (minibatch_size,), generator=g)\n",
    "    Xb, Yb = Xtr[ix], Ytr[ix]\n",
    "    x = Xb\n",
    "    # forward pass\n",
    "    for layer in model:\n",
    "        x = layer(x)\n",
    "    loss = F.cross_entropy(x, Yb)\n",
    "    \n",
    "    # backward pass\n",
    "    for layer in model:\n",
    "        layer.out.retain_grad()\n",
    "    for p in parameters:\n",
    "        p.grad = None\n",
    "    loss.backward()\n",
    "    \n",
    "    # update\n",
    "    lr = 0.1 if i < 100000 else 0.01\n",
    "    for p in parameters:\n",
    "        p.data *= -lr * p.grad\n",
    "    \n",
    "    if i % 10000 == 0:\n",
    "        print(f'Step: {i:7d}/{train_iterations:7d} -- loss: {loss.item():.6f}')\n",
    "    loss_log.append(loss.log10().item())\n",
    "print(loss.item())\n",
    "    "
   ]
  },
  {
   "cell_type": "code",
   "execution_count": null,
   "id": "dc3ffe8a-389e-484f-87ff-0e36e5d07f9d",
   "metadata": {},
   "outputs": [],
   "source": [
    "x.shape"
   ]
  },
  {
   "cell_type": "code",
   "execution_count": null,
   "id": "7dcd5fff-3c8f-422e-8e0c-61c60368442e",
   "metadata": {},
   "outputs": [],
   "source": []
  },
  {
   "cell_type": "code",
   "execution_count": null,
   "id": "44029980-d697-4ce9-9745-465801a38a96",
   "metadata": {},
   "outputs": [],
   "source": []
  }
 ],
 "metadata": {
  "kernelspec": {
   "display_name": "Python [conda env:analysis2]",
   "language": "python",
   "name": "conda-env-analysis2-py"
  },
  "language_info": {
   "codemirror_mode": {
    "name": "ipython",
    "version": 3
   },
   "file_extension": ".py",
   "mimetype": "text/x-python",
   "name": "python",
   "nbconvert_exporter": "python",
   "pygments_lexer": "ipython3",
   "version": "3.10.13"
  },
  "widgets": {
   "application/vnd.jupyter.widget-state+json": {
    "state": {},
    "version_major": 2,
    "version_minor": 0
   }
  }
 },
 "nbformat": 4,
 "nbformat_minor": 5
}
